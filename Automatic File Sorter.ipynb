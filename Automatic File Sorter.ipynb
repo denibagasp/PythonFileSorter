{
 "cells": [
  {
   "cell_type": "code",
   "execution_count": 1,
   "id": "4fd82a20",
   "metadata": {},
   "outputs": [],
   "source": [
    "import os, shutil"
   ]
  },
  {
   "cell_type": "code",
   "execution_count": 9,
   "id": "fb742cca",
   "metadata": {},
   "outputs": [],
   "source": [
    "path = r\"C:/Users/Admin/Music/Python/\""
   ]
  },
  {
   "cell_type": "code",
   "execution_count": 12,
   "id": "2afb03dd",
   "metadata": {},
   "outputs": [],
   "source": [
    "file_name = os.listdir(path)"
   ]
  },
  {
   "cell_type": "code",
   "execution_count": 10,
   "id": "a2d8c517",
   "metadata": {},
   "outputs": [
    {
     "name": "stdout",
     "output_type": "stream",
     "text": [
      "C:/Users/Admin/Music/Python/pdf files\n",
      "C:/Users/Admin/Music/Python/video files\n",
      "C:/Users/Admin/Music/Python/excel files\n",
      "C:/Users/Admin/Music/Python/image files\n"
     ]
    }
   ],
   "source": [
    "folder_names =['pdf files', 'video files', 'excel files', 'image files']\n",
    "\n",
    "for loop in range(0,4):\n",
    "    if not os.path.exists(path + folder_names[loop]):\n",
    "        print(path + folder_names[loop])\n",
    "        os.makedirs(path + folder_names[loop])"
   ]
  },
  {
   "cell_type": "code",
   "execution_count": 19,
   "id": "fd30f6bf",
   "metadata": {},
   "outputs": [
    {
     "name": "stdout",
     "output_type": "stream",
     "text": [
      "BAGIAN SKILL DUA DI HP SAMPE BURN IN.pptxfailed to moved!\n",
      "excel filesfailed to moved!\n",
      "image filesfailed to moved!\n",
      "pdf filesfailed to moved!\n",
      "video filesfailed to moved!\n"
     ]
    }
   ],
   "source": [
    "for file in file_name:\n",
    "    if \".mp4\" in file and not os.path.exists(path + \"video files/\" + file):\n",
    "        shutil.move(path + file, path + \"video files/\" + file)\n",
    "    elif \".pdf\" in file and not os.path.exists(path + \"pdf files/\" + file):\n",
    "        shutil.move(path + file, path + \"pdf files/\" + file)\n",
    "    elif \".xlsx\" in file and not os.path.exists(path + \"excel files/\" + file):\n",
    "        shutil.move(path + file, path + \"excel files/\" + file)\n",
    "    elif \".jpg\" in file and not os.path.exists(path + \"image files/\" + file):\n",
    "        shutil.move(path + file, path + \"image files/\" + file)\n",
    "    else:\n",
    "        print(file + ' failed to moved!')"
   ]
  },
  {
   "cell_type": "code",
   "execution_count": null,
   "id": "f0429f9c",
   "metadata": {},
   "outputs": [],
   "source": []
  }
 ],
 "metadata": {
  "kernelspec": {
   "display_name": "Python 3 (ipykernel)",
   "language": "python",
   "name": "python3"
  },
  "language_info": {
   "codemirror_mode": {
    "name": "ipython",
    "version": 3
   },
   "file_extension": ".py",
   "mimetype": "text/x-python",
   "name": "python",
   "nbconvert_exporter": "python",
   "pygments_lexer": "ipython3",
   "version": "3.10.9"
  }
 },
 "nbformat": 4,
 "nbformat_minor": 5
}
